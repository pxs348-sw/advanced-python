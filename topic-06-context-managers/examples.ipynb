{
 "cells": [
  {
   "cell_type": "code",
   "execution_count": 3,
   "id": "00d68e67",
   "metadata": {},
   "outputs": [
    {
     "ename": "ZeroDivisionError",
     "evalue": "division by zero",
     "output_type": "error",
     "traceback": [
      "\u001b[31m---------------------------------------------------------------------------\u001b[39m",
      "\u001b[31mZeroDivisionError\u001b[39m                         Traceback (most recent call last)",
      "\u001b[36mCell\u001b[39m\u001b[36m \u001b[39m\u001b[32mIn[3]\u001b[39m\u001b[32m, line 4\u001b[39m\n\u001b[32m      2\u001b[39m file.write(\u001b[33m\"\u001b[39m\u001b[33mhello\u001b[39m\u001b[33m\"\u001b[39m)\n\u001b[32m      3\u001b[39m y = \u001b[32m0\u001b[39m\n\u001b[32m----> \u001b[39m\u001b[32m4\u001b[39m k = \u001b[32;43m5\u001b[39;49m\u001b[43m \u001b[49m\u001b[43m/\u001b[49m\u001b[43m \u001b[49m\u001b[43my\u001b[49m\n\u001b[32m      5\u001b[39m file.close()\n",
      "\u001b[31mZeroDivisionError\u001b[39m: division by zero"
     ]
    }
   ],
   "source": [
    "file = open(\"example.txt\",\"w\")\n",
    "file.write(\"hello\")\n",
    "y = 0\n",
    "k = 5 / y\n",
    "file.close()"
   ]
  },
  {
   "cell_type": "code",
   "execution_count": 5,
   "id": "0495ec70",
   "metadata": {},
   "outputs": [
    {
     "data": {
      "text/plain": [
       "3"
      ]
     },
     "execution_count": 5,
     "metadata": {},
     "output_type": "execute_result"
    }
   ],
   "source": [
    "file.write(\"Hi!\")"
   ]
  },
  {
   "cell_type": "code",
   "execution_count": 6,
   "id": "745ce447",
   "metadata": {},
   "outputs": [],
   "source": [
    "file.close()"
   ]
  },
  {
   "cell_type": "code",
   "execution_count": 9,
   "id": "030b8063",
   "metadata": {},
   "outputs": [
    {
     "name": "stdout",
     "output_type": "stream",
     "text": [
      "division by zero\n"
     ]
    }
   ],
   "source": [
    "try:\n",
    "    file = open(\"example.txt\",\"w\")\n",
    "    file.write(\"hello\")\n",
    "    y = 0\n",
    "    k = 5 / y\n",
    "    file.close()\n",
    "except Exception as e:\n",
    "    print(e)\n",
    "    if file:\n",
    "        file.close()"
   ]
  },
  {
   "cell_type": "code",
   "execution_count": 10,
   "id": "0310fad2",
   "metadata": {},
   "outputs": [
    {
     "data": {
      "text/plain": [
       "<_io.TextIOWrapper name='example.txt' mode='w' encoding='UTF-8'>"
      ]
     },
     "execution_count": 10,
     "metadata": {},
     "output_type": "execute_result"
    }
   ],
   "source": [
    "file"
   ]
  },
  {
   "cell_type": "code",
   "execution_count": 11,
   "id": "0962cd24",
   "metadata": {},
   "outputs": [
    {
     "name": "stdout",
     "output_type": "stream",
     "text": [
      "division by zero\n"
     ]
    }
   ],
   "source": [
    "try:\n",
    "    file = open(\"example.txt\",\"w\")\n",
    "    file.write(\"hello\")\n",
    "    y = 0\n",
    "    k = 5 / y\n",
    "except Exception as e:\n",
    "    print(e)\n",
    "finally:\n",
    "    if file:\n",
    "        file.close()"
   ]
  },
  {
   "cell_type": "code",
   "execution_count": 14,
   "id": "f17201e3",
   "metadata": {},
   "outputs": [
    {
     "name": "stdout",
     "output_type": "stream",
     "text": [
      "division by zero\n"
     ]
    }
   ],
   "source": [
    "try:\n",
    "    with open(\"example.txt\",\"w\") as file:\n",
    "        file.write(\"hello\")\n",
    "        y = 0\n",
    "        k = 5 / y\n",
    "except Exception as e:\n",
    "    print(e)"
   ]
  },
  {
   "cell_type": "code",
   "execution_count": 16,
   "id": "d1ebf4b9",
   "metadata": {},
   "outputs": [
    {
     "name": "stdout",
     "output_type": "stream",
     "text": [
      "=== Context Manager Flow ===\n",
      "Created context manager: demo\n",
      "Entering context: demo\n",
      "Setting up resources...\n",
      "Inside context, using: resource_for_demo\n",
      "Doing some work...\n",
      "Exiting context: demo\n",
      "An exception occurred: ValueError: Oops!\n",
      "Cleaning up after exception...\n",
      "Resources cleaned up!\n",
      "Caught exception: Oops!\n"
     ]
    }
   ],
   "source": [
    "class SimpleContextManager:\n",
    "    \"\"\"A simple context manager to understand the protocol.\"\"\"\n",
    "    \n",
    "    def __init__(self, name):\n",
    "        self.name = name\n",
    "        print(f\"Created context manager: {self.name}\")\n",
    "    \n",
    "    def __enter__(self):\n",
    "        print(f\"Entering context: {self.name}\")\n",
    "        print(\"Setting up resources...\")\n",
    "        return f\"resource_for_{self.name}\"  # This is what 'as' captures\n",
    "    \n",
    "    def __exit__(self, exc_type, exc_value, traceback):\n",
    "        print(f\"Exiting context: {self.name}\")\n",
    "        \n",
    "        if exc_type is not None:\n",
    "            print(f\"An exception occurred: {exc_type.__name__}: {exc_value}\")\n",
    "            print(\"Cleaning up after exception...\")\n",
    "        else:\n",
    "            print(\"Normal cleanup...\")\n",
    "        \n",
    "        print(\"Resources cleaned up!\")\n",
    "        # Return False to let exceptions propagate\n",
    "        return False\n",
    "\n",
    "print(\"=== Context Manager Flow ===\")\n",
    "try:\n",
    "    with SimpleContextManager(\"demo\") as resource:\n",
    "        print(f\"Inside context, using: {resource}\")\n",
    "        print(\"Doing some work...\")\n",
    "        # Uncomment to see exception handling\n",
    "        raise ValueError(\"Oops!\")\n",
    "        print(\"Work completed!\")\n",
    "    print(\"After context manager\")\n",
    "    \n",
    "except Exception as e:\n",
    "    print(f\"Caught exception: {e}\")"
   ]
  },
  {
   "cell_type": "code",
   "execution_count": 18,
   "id": "fdbc91a8",
   "metadata": {},
   "outputs": [
    {
     "name": "stdout",
     "output_type": "stream",
     "text": [
      "Starting timer: class_timer\n",
      "Timer class_timer: 1.0001 seconds\n"
     ]
    }
   ],
   "source": [
    "from contextlib import contextmanager\n",
    "\n",
    "# Traditional class-based approach (verbose)\n",
    "\n",
    "class TimerClass:\n",
    "    def __init__(self, name):\n",
    "        self.name = name\n",
    "        self.start_time = None\n",
    "    \n",
    "    def __enter__(self):\n",
    "        import time\n",
    "        print(f\"Starting timer: {self.name}\")\n",
    "        self.start_time = time.time()\n",
    "        return self.start_time\n",
    "    \n",
    "    def __exit__(self, exc_type, exc_value, traceback):\n",
    "        import time\n",
    "        end_time = time.time()\n",
    "        duration = end_time - self.start_time\n",
    "        print(f\"Timer {self.name}: {duration:.4f} seconds\")\n",
    "        return False\n",
    "\n",
    "with TimerClass(\"class_timer\") as start:\n",
    "    import time\n",
    "    time.sleep(1)   \n"
   ]
  },
  {
   "cell_type": "code",
   "execution_count": 20,
   "id": "8ceb932d",
   "metadata": {},
   "outputs": [
    {
     "name": "stdout",
     "output_type": "stream",
     "text": [
      "Starting timer: class_timer\n",
      "Timer class_timer: 1.0001 seconds\n"
     ]
    }
   ],
   "source": [
    "@contextmanager\n",
    "def timer(name):\n",
    "    import time\n",
    "    print(f\"Starting timer: {name}\")\n",
    "    start_time = time.time()\n",
    "    try:\n",
    "        yield start_time #as x \n",
    "    finally:\n",
    "        end_time = time.time()          \n",
    "        duration = end_time - start_time\n",
    "        print(f\"Timer {name}: {duration:.4f} seconds\")  \n",
    "\n",
    "with timer(\"class_timer\") as start:\n",
    "    import time\n",
    "    time.sleep(1)   \n"
   ]
  },
  {
   "cell_type": "code",
   "execution_count": 23,
   "id": "0e2b3519",
   "metadata": {},
   "outputs": [
    {
     "name": "stdout",
     "output_type": "stream",
     "text": [
      "Starting timer: class_timer\n",
      "Timer class_timer: 1.0001 seconds\n"
     ]
    }
   ],
   "source": [
    "@contextmanager\n",
    "def timer(name):\n",
    "    import time\n",
    "    print(f\"Starting timer: {name}\")\n",
    "    start_time = time.time()\n",
    "    yield \n",
    "    end_time = time.time()          \n",
    "    duration = end_time - start_time\n",
    "    print(f\"Timer {name}: {duration:.4f} seconds\")  \n",
    "\n",
    "with timer(\"class_timer\"):\n",
    "    import time\n",
    "    time.sleep(1)   \n"
   ]
  },
  {
   "cell_type": "code",
   "execution_count": 26,
   "id": "fb1397f9",
   "metadata": {},
   "outputs": [],
   "source": [
    "@contextmanager\n",
    "def config_override(**kwargs):\n",
    "    \"\"\"Context manager for temporarily overriding configuration.\"\"\"\n",
    "    import os\n",
    "    \n",
    "    print(\"Setting up configuration overrides...\")\n",
    "    \n",
    "    # Store original values\n",
    "    original_values = {}\n",
    "    for key, value in kwargs.items():\n",
    "        original_values[key] = os.environ.get(key)\n",
    "        os.environ[key] = str(value)\n",
    "        print(f\"  Set {key} = {value}\")\n",
    "    \n",
    "    try:\n",
    "        yield  # No specific value needed\n",
    "    finally:\n",
    "        print(\"Restoring original configuration...\")\n",
    "        \n",
    "        # Restore original values\n",
    "        for key, original_value in original_values.items():\n",
    "            if original_value is None:\n",
    "                if key in os.environ:\n",
    "                    del os.environ[key]\n",
    "                    print(f\"  Removed {key}\")\n",
    "            else:\n",
    "                os.environ[key] = original_value\n",
    "                print(f\"  Restored {key} = {original_value}\")\n"
   ]
  },
  {
   "cell_type": "code",
   "execution_count": 28,
   "id": "bef3c1b8",
   "metadata": {},
   "outputs": [
    {
     "name": "stdout",
     "output_type": "stream",
     "text": [
      "=== Before Configuration Override Example ===\n",
      "DEBUG before: Not set\n",
      "LOG_LEVEL before: Not set\n",
      "Setting up configuration overrides...\n",
      "  Set DEBUG = True\n",
      "  Set LOG_LEVEL = INFO\n",
      "DEBUG during: True\n",
      "LOG_LEVEL during: INFO\n",
      "Restoring original configuration...\n",
      "  Removed DEBUG\n",
      "  Removed LOG_LEVEL\n",
      "=== After Configuration Override Example ===\n",
      "DEBUG before: Not set\n",
      "LOG_LEVEL before: Not set\n"
     ]
    }
   ],
   "source": [
    "import os\n",
    "\n",
    "print(\"=== Before Configuration Override Example ===\")\n",
    "print(f\"DEBUG before: {os.environ.get('DEBUG', 'Not set')}\")\n",
    "print(f\"LOG_LEVEL before: {os.environ.get('LOG_LEVEL', 'Not set')}\")\n",
    "\n",
    "with config_override(DEBUG=\"True\", LOG_LEVEL=\"INFO\"):\n",
    "    print(f\"DEBUG during: {os.environ.get('DEBUG')}\")\n",
    "    print(f\"LOG_LEVEL during: {os.environ.get('LOG_LEVEL')}\")\n",
    "\n",
    "print(\"=== After Configuration Override Example ===\")\n",
    "print(f\"DEBUG before: {os.environ.get('DEBUG', 'Not set')}\")\n",
    "print(f\"LOG_LEVEL before: {os.environ.get('LOG_LEVEL', 'Not set')}\")\n"
   ]
  },
  {
   "cell_type": "code",
   "execution_count": 30,
   "id": "ed51a522",
   "metadata": {},
   "outputs": [],
   "source": [
    "@contextmanager\n",
    "def ignore_errors(*exception_types):\n",
    "    \"\"\"Context manager that ignores specified exception types.\"\"\"\n",
    "    try:\n",
    "        yield\n",
    "    except exception_types as e:\n",
    "        print(f\"Ignoring {type(e).__name__}: {e}\")\n",
    "        # By not re-raising, we suppress the exception\n"
   ]
  },
  {
   "cell_type": "code",
   "execution_count": 33,
   "id": "760f12ba",
   "metadata": {},
   "outputs": [],
   "source": [
    "@contextmanager\n",
    "def log_and_reraise_errors(operation_name=\"operation\"):\n",
    "    \"\"\"Context manager that logs errors but doesn't suppress them.\"\"\"\n",
    "    try:\n",
    "        yield\n",
    "    except Exception as e:\n",
    "        print(f\"Error in {operation_name}: {type(e).__name__}: {e}\")\n",
    "        print(f\"Re-raising exception for proper handling...\")\n",
    "        raise  # Re-raise the exception\n"
   ]
  },
  {
   "cell_type": "code",
   "execution_count": 34,
   "id": "da450dab",
   "metadata": {},
   "outputs": [
    {
     "name": "stdout",
     "output_type": "stream",
     "text": [
      "1. Ignoring specific errors:\n",
      "Attempting to convert 'abc' to int...\n",
      "Ignoring ValueError: invalid literal for int() with base 10: 'abc'\n",
      "Execution continues after ignored error!\n",
      "\n",
      "2. Logging errors without suppressing:\n",
      "Processing data...\n",
      "Error in data processing: RuntimeError: Processing failed!\n",
      "Re-raising exception for proper handling...\n",
      "Caught and handled: Processing failed!\n"
     ]
    }
   ],
   "source": [
    "print(\"1. Ignoring specific errors:\")\n",
    "with ignore_errors(ValueError, TypeError):\n",
    "    print(\"Attempting to convert 'abc' to int...\")\n",
    "    result = int(\"abc\")  # This would normally raise ValueError\n",
    "    print(\"This won't be reached\")\n",
    "\n",
    "print(\"Execution continues after ignored error!\")\n",
    "\n",
    "print(\"\\n2. Logging errors without suppressing:\")\n",
    "try:\n",
    "    with log_and_reraise_errors(\"data processing\"):\n",
    "        print(\"Processing data...\")\n",
    "        raise RuntimeError(\"Processing failed!\")\n",
    "        \n",
    "except RuntimeError as e:\n",
    "    print(f\"Caught and handled: {e}\")\n"
   ]
  },
  {
   "cell_type": "code",
   "execution_count": 36,
   "id": "1aedfced",
   "metadata": {},
   "outputs": [],
   "source": [
    "@contextmanager\n",
    "def change_directory(path):\n",
    "    \"\"\"Context manager to temporarily change working directory.\"\"\"\n",
    "    import os\n",
    "    \n",
    "    original_dir = os.getcwd()\n",
    "    print(f\"Changing directory from {original_dir} to {path}\")\n",
    "    \n",
    "    try:\n",
    "        os.chdir(path)\n",
    "        yield path\n",
    "    finally:\n",
    "        os.chdir(original_dir)\n",
    "        print(f\"Restored directory to {original_dir}\")\n"
   ]
  },
  {
   "cell_type": "code",
   "execution_count": 39,
   "id": "f6f9de51",
   "metadata": {},
   "outputs": [
    {
     "name": "stdout",
     "output_type": "stream",
     "text": [
      "Changing directory from /workspaces/advanced-python/topic-06-context-managers to ..\n",
      "Restored directory to /workspaces/advanced-python/topic-06-context-managers\n"
     ]
    }
   ],
   "source": [
    "with change_directory(\"..\"):\n",
    "    with open(\"tmp.txt\",\"w\") as f:\n",
    "        f.write(\"hello\")\n",
    "\n"
   ]
  },
  {
   "cell_type": "code",
   "execution_count": null,
   "id": "78aa22a4",
   "metadata": {},
   "outputs": [],
   "source": [
    "@contextmanager\n",
    "def suppress_output():\n",
    "    \"\"\"Context manager to suppress stdout temporarily.\"\"\"\n",
    "    import sys\n",
    "    from io import StringIO\n",
    "    \n",
    "    original_stdout = sys.stdout\n",
    "    print(\"Suppressing output...\")\n",
    "    \n",
    "    try:\n",
    "        sys.stdout = StringIO()  # Redirect to nowhere\n",
    "        yield\n",
    "    finally:\n",
    "        sys.stdout = original_stdout\n",
    "        print(\"Output restored!\")"
   ]
  },
  {
   "cell_type": "code",
   "execution_count": null,
   "id": "e3a98296",
   "metadata": {},
   "outputs": [],
   "source": [
    "import sqlite3\n",
    "from contextlib import contextmanager\n",
    "\n",
    "class DatabaseConnection:\n",
    "    \"\"\"Context manager for database connections.\"\"\"\n",
    "    \n",
    "    def __init__(self, db_path):\n",
    "        self.db_path = db_path\n",
    "        self.connection = None\n",
    "        print(f\"DatabaseConnection created for: {db_path}\")\n",
    "    \n",
    "    def __enter__(self):\n",
    "        print(f\"Connecting to database: {self.db_path}\")\n",
    "        try:\n",
    "            self.connection = sqlite3.connect(self.db_path)\n",
    "            print(\" Database connection established\")\n",
    "            return self.connection\n",
    "        except Exception as e:\n",
    "            print(f\" Failed to connect to database: {e}\")\n",
    "            raise\n",
    "    \n",
    "    def __exit__(self, exc_type, exc_value, traceback):\n",
    "        if self.connection:\n",
    "            if exc_type is None:\n",
    "                print(\"Closing database connection normally\")\n",
    "            else:\n",
    "                print(f\"Closing database connection after exception: {exc_type.__name__}\")\n",
    "            \n",
    "            try:\n",
    "                self.connection.close()\n",
    "                print(\" Database connection closed\")\n",
    "            except Exception as e:\n",
    "                print(f\" Error closing database: {e}\")\n",
    "        \n",
    "        # Don't suppress exceptions\n",
    "        return False\n"
   ]
  },
  {
   "cell_type": "code",
   "execution_count": null,
   "id": "7ac565cc",
   "metadata": {},
   "outputs": [],
   "source": [
    "@contextmanager\n",
    "def database_transaction(db_path):\n",
    "    \"\"\"Context manager for database transactions.\"\"\"\n",
    "    print(f\"Starting database transaction: {db_path}\")\n",
    "    \n",
    "    conn = sqlite3.connect(db_path)\n",
    "    \n",
    "    try:\n",
    "        # Start transaction\n",
    "        conn.execute(\"BEGIN TRANSACTION\")\n",
    "        print(\" Transaction started\")\n",
    "        \n",
    "        yield conn\n",
    "        \n",
    "        # If we get here, commit the transaction\n",
    "        conn.execute(\"COMMIT\")\n",
    "        print(\" Transaction committed\")\n",
    "        \n",
    "    except Exception as e:\n",
    "        # If anything goes wrong, rollback\n",
    "        print(f\" Error in transaction: {e}\")\n",
    "        try:\n",
    "            conn.execute(\"ROLLBACK\")\n",
    "            print(\" Transaction rolled back\")\n",
    "        except Exception as rollback_error:\n",
    "            print(f\" Rollback failed: {rollback_error}\")\n",
    "        raise\n",
    "        \n",
    "    finally:\n",
    "        conn.close()\n",
    "        print(\" Database connection closed\")\n"
   ]
  },
  {
   "cell_type": "code",
   "execution_count": null,
   "id": "bc88714c",
   "metadata": {},
   "outputs": [],
   "source": [
    "with database_transaction(\":memory:\") as conn:\n",
    "    cursor = conn.cursor()\n",
    "    \n",
    "    # Setup\n",
    "    cursor.execute(\"CREATE TABLE accounts (id INTEGER, balance REAL)\")\n",
    "    cursor.execute(\"INSERT INTO accounts VALUES (1, 100.0)\")\n",
    "    cursor.execute(\"INSERT INTO accounts VALUES (2, 50.0)\")\n",
    "    \n",
    "    # Transfer money\n",
    "    cursor.execute(\"UPDATE accounts SET balance = balance - 25 WHERE id = 1\")\n",
    "    cursor.execute(\"UPDATE accounts SET balance = balance + 25 WHERE id = 2\")\n",
    "    \n",
    "    print(\"Money transfer completed\")\n"
   ]
  },
  {
   "cell_type": "code",
   "execution_count": null,
   "id": "d121b31c",
   "metadata": {},
   "outputs": [],
   "source": []
  }
 ],
 "metadata": {
  "kernelspec": {
   "display_name": "Python 3",
   "language": "python",
   "name": "python3"
  },
  "language_info": {
   "codemirror_mode": {
    "name": "ipython",
    "version": 3
   },
   "file_extension": ".py",
   "mimetype": "text/x-python",
   "name": "python",
   "nbconvert_exporter": "python",
   "pygments_lexer": "ipython3",
   "version": "3.12.1"
  }
 },
 "nbformat": 4,
 "nbformat_minor": 5
}
