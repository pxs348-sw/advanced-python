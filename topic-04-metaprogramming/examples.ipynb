{
 "cells": [
  {
   "cell_type": "code",
   "execution_count": 10,
   "id": "c9d5a83a",
   "metadata": {},
   "outputs": [
    {
     "data": {
      "text/plain": [
       "'Hello, Dorothy'"
      ]
     },
     "execution_count": 10,
     "metadata": {},
     "output_type": "execute_result"
    }
   ],
   "source": [
    "def greet(name):\n",
    "    \"This function returns a greeting\"\n",
    "    return f\"Hello, {name}\"\n",
    "\n",
    "greet(\"Dorothy\")"
   ]
  },
  {
   "cell_type": "code",
   "execution_count": 3,
   "id": "b3c728e3",
   "metadata": {},
   "outputs": [
    {
     "data": {
      "text/plain": [
       "'HELLO, DOROTHY'"
      ]
     },
     "execution_count": 3,
     "metadata": {},
     "output_type": "execute_result"
    }
   ],
   "source": [
    "def shout(name):\n",
    "    return f\"HELLO, {name.upper()}\"\n",
    "shout(\"Dorothy\")\n"
   ]
  },
  {
   "cell_type": "code",
   "execution_count": 4,
   "id": "25638f14",
   "metadata": {},
   "outputs": [
    {
     "data": {
      "text/plain": [
       "'Hello, Dorothy'"
      ]
     },
     "execution_count": 4,
     "metadata": {},
     "output_type": "execute_result"
    }
   ],
   "source": [
    "my_func = greet\n",
    "my_func(\"Dorothy\")"
   ]
  },
  {
   "cell_type": "code",
   "execution_count": 12,
   "id": "93b3fd66",
   "metadata": {},
   "outputs": [
    {
     "data": {
      "text/plain": [
       "('greet', 'This function returns a greeting', '__main__')"
      ]
     },
     "execution_count": 12,
     "metadata": {},
     "output_type": "execute_result"
    }
   ],
   "source": [
    "greet.__name__, greet.__doc__, greet.__module__"
   ]
  },
  {
   "cell_type": "code",
   "execution_count": 18,
   "id": "65090979",
   "metadata": {},
   "outputs": [
    {
     "data": {
      "text/plain": [
       "'Hello, Dorothy'"
      ]
     },
     "execution_count": 18,
     "metadata": {},
     "output_type": "execute_result"
    }
   ],
   "source": [
    "greetings = {\n",
    "    \"polite\": greet,\n",
    "    \"loud\":shout\n",
    "}\n",
    "greetings[\"polite\"](\"Dorothy\")"
   ]
  },
  {
   "cell_type": "code",
   "execution_count": 19,
   "id": "28e22dc4",
   "metadata": {},
   "outputs": [
    {
     "name": "stdout",
     "output_type": "stream",
     "text": [
      "polite: Hello, Dorothy\n",
      "loud: HELLO, DOROTHY\n"
     ]
    }
   ],
   "source": [
    "for style, func in greetings.items():\n",
    "    print(f\"{style}: {func(\"Dorothy\")}\")"
   ]
  },
  {
   "cell_type": "code",
   "execution_count": 21,
   "id": "6720d8ad",
   "metadata": {},
   "outputs": [
    {
     "data": {
      "text/plain": [
       "4"
      ]
     },
     "execution_count": 21,
     "metadata": {},
     "output_type": "execute_result"
    }
   ],
   "source": [
    "double = (lambda x: x+x)\n",
    "double(2)"
   ]
  },
  {
   "cell_type": "code",
   "execution_count": 23,
   "id": "7651fbda",
   "metadata": {},
   "outputs": [],
   "source": [
    "# // function double(x) {\n",
    "# //     return x+x\n",
    "# // }\n",
    "# // double(x)\n",
    "\n",
    "# // double = function (x) {\n",
    "# //     return x+x\n",
    "# // }"
   ]
  },
  {
   "cell_type": "code",
   "execution_count": 24,
   "id": "767fdc5b",
   "metadata": {},
   "outputs": [
    {
     "data": {
      "text/plain": [
       "'Hello, Dorothy'"
      ]
     },
     "execution_count": 24,
     "metadata": {},
     "output_type": "execute_result"
    }
   ],
   "source": [
    "def apply_function(func, value):\n",
    "    return func(value)\n",
    "apply_function(greet, \"Dorothy\")"
   ]
  },
  {
   "cell_type": "code",
   "execution_count": 25,
   "id": "169a77d7",
   "metadata": {},
   "outputs": [
    {
     "data": {
      "text/plain": [
       "'Hello, DorothyHello, Dorothy'"
      ]
     },
     "execution_count": 25,
     "metadata": {},
     "output_type": "execute_result"
    }
   ],
   "source": [
    "def repeat_twice(func, value):\n",
    "    return func(value) + func(value)\n",
    "repeat_twice(greet, \"Dorothy\")"
   ]
  },
  {
   "cell_type": "code",
   "execution_count": 26,
   "id": "901655ba",
   "metadata": {},
   "outputs": [
    {
     "data": {
      "text/plain": [
       "('Hello, Dorothy', 'Hello, Dorothy')"
      ]
     },
     "execution_count": 26,
     "metadata": {},
     "output_type": "execute_result"
    }
   ],
   "source": [
    "def make_echo_version(func):\n",
    "    def echo_version(arg):\n",
    "        return (func(arg),func(arg))\n",
    "    return echo_version\n",
    "\n",
    "greet_echo = make_echo_version(greet)\n",
    "greet_echo(\"Dorothy\")\n"
   ]
  },
  {
   "cell_type": "code",
   "execution_count": 27,
   "id": "c0a4286e",
   "metadata": {},
   "outputs": [
    {
     "data": {
      "text/plain": [
       "(8, 8)"
      ]
     },
     "execution_count": 27,
     "metadata": {},
     "output_type": "execute_result"
    }
   ],
   "source": [
    "double_echo = make_echo_version(double)\n",
    "double_echo(4)"
   ]
  },
  {
   "cell_type": "code",
   "execution_count": null,
   "id": "385d1455",
   "metadata": {},
   "outputs": [
    {
     "data": {
      "text/plain": [
       "('5!', '5!')"
      ]
     },
     "execution_count": 30,
     "metadata": {},
     "output_type": "execute_result"
    }
   ],
   "source": [
    "def make_echo_version(func):\n",
    "    def echo_version(*args, **kwargs):\n",
    "        return (func(*args, **kwargs),func(*args, **kwargs))\n",
    "    return echo_version\n",
    "\n",
    "def add(x,y,emphasis=False):\n",
    "    if emphasis:\n",
    "        return str(x+y)+\"!\"\n",
    "    return x+y\n",
    "\n",
    "add_echo = make_echo_version(add)\n",
    "add_echo(2,3,emphasis=True)"
   ]
  },
  {
   "cell_type": "code",
   "execution_count": 32,
   "id": "47504b43",
   "metadata": {},
   "outputs": [
    {
     "name": "stdout",
     "output_type": "stream",
     "text": [
      "slow_function took 1.0001 seconds\n"
     ]
    },
    {
     "data": {
      "text/plain": [
       "'Done!'"
      ]
     },
     "execution_count": 32,
     "metadata": {},
     "output_type": "execute_result"
    }
   ],
   "source": [
    "import time\n",
    "\n",
    "def timer(func):\n",
    "    def wrapper(*args, **kwargs):\n",
    "        start_time = time.time()\n",
    "        result = func(*args, **kwargs)\n",
    "        end_time = time.time()\n",
    "        print(f\"{func.__name__} took {end_time - start_time:.4f} seconds\")\n",
    "        return result\n",
    "    return wrapper\n",
    "\n",
    "def slow_function():\n",
    "    \"\"\"A function that takes some time to execute.\"\"\"\n",
    "    time.sleep(1)\n",
    "    return \"Done!\"\n",
    "\n",
    "slow_function_timer = timer(slow_function)\n",
    "result = slow_function_timer()\n",
    "result\n",
    "\n",
    "\n"
   ]
  },
  {
   "cell_type": "code",
   "execution_count": 33,
   "id": "839c2324",
   "metadata": {},
   "outputs": [
    {
     "name": "stdout",
     "output_type": "stream",
     "text": [
      "slow_function2 took 1.0001 seconds\n"
     ]
    },
    {
     "data": {
      "text/plain": [
       "'Done!'"
      ]
     },
     "execution_count": 33,
     "metadata": {},
     "output_type": "execute_result"
    }
   ],
   "source": [
    "import time\n",
    "import functools\n",
    "\n",
    "def timer(func):\n",
    "    @functools.wraps(func)\n",
    "    def wrapper(*args, **kwargs):\n",
    "        start_time = time.time()\n",
    "        result = func(*args, **kwargs)\n",
    "        end_time = time.time()\n",
    "        print(f\"{func.__name__} took {end_time - start_time:.4f} seconds\")\n",
    "        return result\n",
    "    return wrapper\n",
    "\n",
    "import time\n",
    "\n",
    "def timer(func):\n",
    "    def wrapper(*args, **kwargs):\n",
    "        start_time = time.time()\n",
    "        result = func(*args, **kwargs)\n",
    "        end_time = time.time()\n",
    "        print(f\"{func.__name__} took {end_time - start_time:.4f} seconds\")\n",
    "        return result\n",
    "    return wrapper\n",
    "\n",
    "@timer\n",
    "def slow_function2():\n",
    "    \"\"\"A function that takes some time to execute.\"\"\"\n",
    "    time.sleep(1)\n",
    "    return \"Done!\"\n",
    "\n",
    "result = slow_function2()\n",
    "result"
   ]
  },
  {
   "cell_type": "code",
   "execution_count": 38,
   "id": "d34be634",
   "metadata": {},
   "outputs": [
    {
     "data": {
      "text/plain": [
       "'<i><b>Hello!</b></i>'"
      ]
     },
     "execution_count": 38,
     "metadata": {},
     "output_type": "execute_result"
    }
   ],
   "source": [
    "def bold(func):\n",
    "    \"\"\"Wrap result in bold tags.\"\"\"\n",
    "    @functools.wraps(func)\n",
    "    def wrapper(*args, **kwargs):\n",
    "        result = func(*args, **kwargs)\n",
    "        return f\"<b>{result}</b>\"\n",
    "    return wrapper\n",
    "\n",
    "def italic(func):\n",
    "    \"\"\"Wrap result in italic tags.\"\"\"\n",
    "    @functools.wraps(func)\n",
    "    def wrapper(*args, **kwargs):\n",
    "        result = func(*args, **kwargs)\n",
    "        return f\"<i>{result}</i>\"\n",
    "    return wrapper\n",
    "\n",
    "@italic\n",
    "@bold\n",
    "def say_hi():\n",
    "    return \"Hello!\"\n",
    "\n",
    "say_hi()"
   ]
  },
  {
   "cell_type": "code",
   "execution_count": 39,
   "id": "e8fe60cf",
   "metadata": {},
   "outputs": [
    {
     "data": {
      "text/plain": [
       "'Hello, Charlie!'"
      ]
     },
     "execution_count": 39,
     "metadata": {},
     "output_type": "execute_result"
    }
   ],
   "source": [
    "def say_hello(name):\n",
    "    return f\"Hello, {name}!\"\n",
    "say_hello(\"Alice\")  # say_hello has been called 1 times\n",
    "say_hello(\"Bob\")    # say_hello has been called 2 times\n",
    "say_hello(\"Charlie\") # say_hello has been called 3 times\n"
   ]
  },
  {
   "cell_type": "code",
   "execution_count": 40,
   "id": "c8679fbc",
   "metadata": {},
   "outputs": [
    {
     "name": "stdout",
     "output_type": "stream",
     "text": [
      "say_hello2 has been called 1 times\n",
      "say_hello2 has been called 2 times\n",
      "say_hello2 has been called 3 times\n"
     ]
    },
    {
     "data": {
      "text/plain": [
       "'Hello, Charlie!'"
      ]
     },
     "execution_count": 40,
     "metadata": {},
     "output_type": "execute_result"
    }
   ],
   "source": [
    "def counter(func):\n",
    "    @functools.wraps(func)\n",
    "    def wrapper(*args, **kwargs):\n",
    "        wrapper.calls += 1\n",
    "        print(f\"{func.__name__} has been called {wrapper.calls} times\")\n",
    "        return func(*args, **kwargs)\n",
    "    wrapper.calls = 0\n",
    "    return wrapper\n",
    "\n",
    "@counter\n",
    "def say_hello2(name):\n",
    "    return f\"Hello, {name}!\"\n",
    "    \n",
    "say_hello2(\"Alice\")  # say_hello has been called 1 times\n",
    "say_hello2(\"Bob\")    # say_hello has been called 2 times\n",
    "say_hello2(\"Charlie\") # say_hello has been called 3 times"
   ]
  },
  {
   "cell_type": "code",
   "execution_count": 58,
   "id": "f019338f",
   "metadata": {},
   "outputs": [
    {
     "name": "stdout",
     "output_type": "stream",
     "text": [
      "Attempt 1 failed: Network error. Retrying in 1s...\n"
     ]
    },
    {
     "data": {
      "text/plain": [
       "'Hello, Alice!'"
      ]
     },
     "execution_count": 58,
     "metadata": {},
     "output_type": "execute_result"
    }
   ],
   "source": [
    "def retry(max_attempts=3, delay=1):\n",
    "    \"\"\"Decorator that retries a function on failure.\"\"\"\n",
    "    def decorator(func):\n",
    "        @functools.wraps(func)\n",
    "        def wrapper(*args, **kwargs):\n",
    "            last_exception = None\n",
    "            \n",
    "            for attempt in range(max_attempts):\n",
    "                try:\n",
    "                    return func(*args, **kwargs)\n",
    "                except Exception as e:\n",
    "                    last_exception = e\n",
    "                    if attempt < max_attempts - 1:\n",
    "                        print(f\"Attempt {attempt + 1} failed: {e}. Retrying in {delay}s...\")\n",
    "                        time.sleep(delay)\n",
    "                    else:\n",
    "                        print(f\"All {max_attempts} attempts failed.\")\n",
    "            \n",
    "            raise last_exception\n",
    "        return wrapper\n",
    "    return decorator\n",
    "\n",
    "@retry(max_attempts=5)\n",
    "def say_hello3(name):\n",
    "    import random\n",
    "    if random.random() < 0.4:  # 40% chance of failure\n",
    "        raise ConnectionError(\"Network error\")\n",
    "    return f\"Hello, {name}!\"\n",
    "\n",
    "say_hello3(\"Alice\")"
   ]
  },
  {
   "cell_type": "code",
   "execution_count": 63,
   "id": "81db9c65",
   "metadata": {},
   "outputs": [
    {
     "ename": "ValueError",
     "evalue": "Argument 1 failed validation: ",
     "output_type": "error",
     "traceback": [
      "\u001b[31m---------------------------------------------------------------------------\u001b[39m",
      "\u001b[31mValueError\u001b[39m                                Traceback (most recent call last)",
      "\u001b[36mCell\u001b[39m\u001b[36m \u001b[39m\u001b[32mIn[63]\u001b[39m\u001b[32m, line 28\u001b[39m\n\u001b[32m     25\u001b[39m     \u001b[38;5;28;01mreturn\u001b[39;00m \u001b[33mf\u001b[39m\u001b[33m\"\u001b[39m\u001b[33mUser \u001b[39m\u001b[38;5;132;01m{\u001b[39;00mname\u001b[38;5;132;01m}\u001b[39;00m\u001b[33m, age \u001b[39m\u001b[38;5;132;01m{\u001b[39;00mage\u001b[38;5;132;01m}\u001b[39;00m\u001b[33m\"\u001b[39m\n\u001b[32m     27\u001b[39m \u001b[38;5;66;03m# Valid usage\u001b[39;00m\n\u001b[32m---> \u001b[39m\u001b[32m28\u001b[39m user1 = \u001b[43mcreate_user\u001b[49m\u001b[43m(\u001b[49m\u001b[32;43m25\u001b[39;49m\u001b[43m,\u001b[49m\u001b[43m \u001b[49m\u001b[33;43m\"\u001b[39;49m\u001b[33;43m\"\u001b[39;49m\u001b[43m)\u001b[49m\n\u001b[32m     29\u001b[39m \u001b[38;5;28mprint\u001b[39m(user1)  \u001b[38;5;66;03m# User Alice, age 25\u001b[39;00m\n\u001b[32m     31\u001b[39m \u001b[38;5;66;03m# Invalid usage would raise ValueError\u001b[39;00m\n\u001b[32m     32\u001b[39m \u001b[38;5;66;03m# user2 = create_user(-5, \"Bob\")    # Negative age\u001b[39;00m\n\u001b[32m     33\u001b[39m \u001b[38;5;66;03m# user3 = create_user(30, \"\")       # Empty name\u001b[39;00m\n",
      "\u001b[36mCell\u001b[39m\u001b[36m \u001b[39m\u001b[32mIn[63]\u001b[39m\u001b[32m, line 9\u001b[39m, in \u001b[36mvalidate.<locals>.decorator.<locals>.wrapper\u001b[39m\u001b[34m(*args, **kwargs)\u001b[39m\n\u001b[32m      7\u001b[39m \u001b[38;5;28;01mfor\u001b[39;00m i, (arg, validator) \u001b[38;5;129;01min\u001b[39;00m \u001b[38;5;28menumerate\u001b[39m(\u001b[38;5;28mzip\u001b[39m(args, validators)):\n\u001b[32m      8\u001b[39m     \u001b[38;5;28;01mif\u001b[39;00m \u001b[38;5;129;01mnot\u001b[39;00m validator(arg):\n\u001b[32m----> \u001b[39m\u001b[32m9\u001b[39m         \u001b[38;5;28;01mraise\u001b[39;00m \u001b[38;5;167;01mValueError\u001b[39;00m(\u001b[33mf\u001b[39m\u001b[33m\"\u001b[39m\u001b[33mArgument \u001b[39m\u001b[38;5;132;01m{\u001b[39;00mi\u001b[38;5;132;01m}\u001b[39;00m\u001b[33m failed validation: \u001b[39m\u001b[38;5;132;01m{\u001b[39;00marg\u001b[38;5;132;01m}\u001b[39;00m\u001b[33m\"\u001b[39m)\n\u001b[32m     11\u001b[39m \u001b[38;5;28;01mreturn\u001b[39;00m func(*args, **kwargs)\n",
      "\u001b[31mValueError\u001b[39m: Argument 1 failed validation: "
     ]
    }
   ],
   "source": [
    "def validate(*validators):\n",
    "    \"\"\"Decorator that validates function arguments.\"\"\"\n",
    "    def decorator(func):\n",
    "        @functools.wraps(func)\n",
    "        def wrapper(*args, **kwargs):\n",
    "            # Validate positional arguments\n",
    "            for i, (arg, validator) in enumerate(zip(args, validators)):\n",
    "                if not validator(arg):\n",
    "                    raise ValueError(f\"Argument {i} failed validation: {arg}\")\n",
    "            \n",
    "            return func(*args, **kwargs)\n",
    "        return wrapper\n",
    "    return decorator\n",
    "\n",
    "# Validator functions\n",
    "def is_positive(x):\n",
    "    return isinstance(x, (int, float)) and x > 0\n",
    "\n",
    "def is_string(x):\n",
    "    return isinstance(x, str) and len(x) > 0\n",
    "\n",
    "@validate(is_positive, is_string)\n",
    "def create_user(age, name):\n",
    "    \"\"\"Create a user with validated input.\"\"\"\n",
    "    return f\"User {name}, age {age}\"\n",
    "\n",
    "# Valid usage\n",
    "user1 = create_user(25, \"\")\n",
    "print(user1)  # User Alice, age 25\n",
    "\n",
    "# Invalid usage would raise ValueError\n",
    "# user2 = create_user(-5, \"Bob\")    # Negative age\n",
    "# user3 = create_user(30, \"\")       # Empty name\n"
   ]
  },
  {
   "cell_type": "code",
   "execution_count": 65,
   "id": "aa696c63",
   "metadata": {},
   "outputs": [
    {
     "data": {
      "text/plain": [
       "Point(x=10, y=20)"
      ]
     },
     "execution_count": 65,
     "metadata": {},
     "output_type": "execute_result"
    }
   ],
   "source": [
    "def add_repr(cls):\n",
    "    def __repr__(self):\n",
    "        class_name = self.__class__.__name__\n",
    "        attrs = ', '.join(f\"{k}={v!r}\" for k, v in self.__dict__.items())\n",
    "        return f\"{class_name}({attrs})\"\n",
    "    cls.__repr__ = __repr__\n",
    "    return cls\n",
    "\n",
    "@add_repr\n",
    "class Point:\n",
    "    def __init__(self, x, y):\n",
    "        self.x = x\n",
    "        self.y = y\n",
    "\n",
    "p = Point(10,20)\n",
    "p"
   ]
  },
  {
   "cell_type": "code",
   "execution_count": 67,
   "id": "a11d1d01",
   "metadata": {},
   "outputs": [
    {
     "data": {
      "text/plain": [
       "Person(name='Charlotte', age=4)"
      ]
     },
     "execution_count": 67,
     "metadata": {},
     "output_type": "execute_result"
    }
   ],
   "source": [
    "@add_repr\n",
    "class Person:\n",
    "    def __init__(self, name, age):\n",
    "        self.name = name\n",
    "        self.age = age\n",
    "person = Person(\"Charlotte\",4)\n",
    "person"
   ]
  },
  {
   "cell_type": "code",
   "execution_count": 68,
   "id": "cbaeef03",
   "metadata": {},
   "outputs": [
    {
     "name": "stdout",
     "output_type": "stream",
     "text": [
      "Function: sample_function\n",
      "Module: __main__\n",
      "Doc: A sample function for inspection.\n",
      "Signature: (a: int, b: str = 'default', *args, **kwargs) -> str\n",
      "  Parameter 'a':\n",
      "    Kind: POSITIONAL_OR_KEYWORD\n",
      "    Default: <class 'inspect._empty'>\n",
      "    Annotation: <class 'int'>\n",
      "  Parameter 'b':\n",
      "    Kind: POSITIONAL_OR_KEYWORD\n",
      "    Default: default\n",
      "    Annotation: <class 'str'>\n",
      "  Parameter 'args':\n",
      "    Kind: VAR_POSITIONAL\n",
      "    Default: <class 'inspect._empty'>\n",
      "    Annotation: <class 'inspect._empty'>\n",
      "  Parameter 'kwargs':\n",
      "    Kind: VAR_KEYWORD\n",
      "    Default: <class 'inspect._empty'>\n",
      "    Annotation: <class 'inspect._empty'>\n",
      "Return annotation: <class 'str'>\n"
     ]
    }
   ],
   "source": [
    "import inspect\n",
    "\n",
    "def analyze_function(func):\n",
    "    \"\"\"Analyze and display function metadata.\"\"\"\n",
    "    print(f\"Function: {func.__name__}\")\n",
    "    print(f\"Module: {func.__module__}\")\n",
    "    print(f\"Doc: {func.__doc__}\")\n",
    "    \n",
    "    # Get function signature\n",
    "    sig = inspect.signature(func)\n",
    "    print(f\"Signature: {sig}\")\n",
    "    \n",
    "    # Analyze parameters\n",
    "    for name, param in sig.parameters.items():\n",
    "        print(f\"  Parameter '{name}':\")\n",
    "        print(f\"    Kind: {param.kind}\")\n",
    "        print(f\"    Default: {param.default}\")\n",
    "        print(f\"    Annotation: {param.annotation}\")\n",
    "    \n",
    "    # Return annotation\n",
    "    if sig.return_annotation != inspect.Signature.empty:\n",
    "        print(f\"Return annotation: {sig.return_annotation}\")\n",
    "\n",
    "def sample_function(a: int, b: str = \"default\", *args, **kwargs) -> str:\n",
    "    \"\"\"A sample function for inspection.\"\"\"\n",
    "    return f\"{a}: {b}\"\n",
    "\n",
    "analyze_function(sample_function)\n"
   ]
  },
  {
   "cell_type": "code",
   "execution_count": 70,
   "id": "84e99861",
   "metadata": {},
   "outputs": [
    {
     "name": "stdout",
     "output_type": "stream",
     "text": [
      "Debug trace:\n",
      "  Function: business_logic\n",
      "  File: /tmp/ipykernel_5776/3487965858.py\n",
      "  Line: 31\n",
      "  Local variables: {'x': 5, 'y': 10, 'intermediate': 10}\n",
      "  Caller 1: business_logic_preamble at line 37\n",
      "  Caller 2: main at line 42\n",
      "Result: 13\n"
     ]
    }
   ],
   "source": [
    "def debug_trace():\n",
    "    \"\"\"Print debug information about the current call stack.\"\"\"\n",
    "    frame = inspect.currentframe()\n",
    "    \n",
    "    try:\n",
    "        # Get the caller's frame\n",
    "        caller_frame = frame.f_back\n",
    "        \n",
    "        print(\"Debug trace:\")\n",
    "        print(f\"  Function: {caller_frame.f_code.co_name}\")\n",
    "        print(f\"  File: {caller_frame.f_code.co_filename}\")\n",
    "        print(f\"  Line: {caller_frame.f_lineno}\")\n",
    "        print(f\"  Local variables: {caller_frame.f_locals}\")\n",
    "        \n",
    "        # Walk up the call stack\n",
    "        current_frame = caller_frame\n",
    "        level = 1\n",
    "        \n",
    "        while current_frame.f_back and level < 3:\n",
    "            current_frame = current_frame.f_back\n",
    "            print(f\"  Caller {level}: {current_frame.f_code.co_name} \"\n",
    "                  f\"at line {current_frame.f_lineno}\")\n",
    "            level += 1\n",
    "            \n",
    "    finally:\n",
    "        del frame  # Prevent reference cycles\n",
    "\n",
    "def business_logic(x, y):\n",
    "    \"\"\"Some business logic that might need debugging.\"\"\"\n",
    "    intermediate = x * 2\n",
    "    debug_trace()  # Call our debug function\n",
    "    return intermediate + y\n",
    "\n",
    "def business_logic_preamble(x, y):\n",
    "    \"\"\"Some business logic that might need debugging.\"\"\"\n",
    "    intermediate = x * 2\n",
    "    business_logic(x, intermediate)\n",
    "    return intermediate + y\n",
    "\n",
    "\n",
    "def main():\n",
    "    result = business_logic_preamble(5, 3)\n",
    "    print(f\"Result: {result}\")\n",
    "\n",
    "main()\n"
   ]
  }
 ],
 "metadata": {
  "kernelspec": {
   "display_name": "Python 3",
   "language": "python",
   "name": "python3"
  },
  "language_info": {
   "codemirror_mode": {
    "name": "ipython",
    "version": 3
   },
   "file_extension": ".py",
   "mimetype": "text/x-python",
   "name": "python",
   "nbconvert_exporter": "python",
   "pygments_lexer": "ipython3",
   "version": "3.12.1"
  }
 },
 "nbformat": 4,
 "nbformat_minor": 5
}
